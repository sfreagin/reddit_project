{
 "cells": [
  {
   "cell_type": "code",
   "execution_count": 2,
   "metadata": {},
   "outputs": [],
   "source": [
    "# imports\n",
    "import pandas as pd\n",
    "import matplotlib.pyplot as plt\n",
    "from sklearn.model_selection import train_test_split, GridSearchCV, cross_val_score\n",
    "from sklearn.pipeline import Pipeline\n",
    "\n",
    "from sklearn.ensemble import RandomForestClassifier, ExtraTreesClassifier\n",
    "\n",
    "from sklearn.linear_model import LogisticRegression\n",
    "from sklearn.metrics import confusion_matrix, ConfusionMatrixDisplay\n",
    "import re\n",
    "\n",
    "# Import CountVectorizer and TFIDFVectorizer from feature_extraction.text.\n",
    "from sklearn.feature_extraction.text import CountVectorizer, TfidfVectorizer"
   ]
  },
  {
   "cell_type": "code",
   "execution_count": 3,
   "metadata": {},
   "outputs": [],
   "source": [
    "# Per Samantha Chu:\n",
    "# When dealing with text data, there are common pre-processing steps. We won't necessarily use all of them every time we deal with text data.\n",
    "#- Remove special characters (e.g. Regular expression to just keep the words)\n",
    "#- Tokenizing \n",
    "#- Lemmatizing/Stemming\n",
    "#- Stop word removal"
   ]
  },
  {
   "cell_type": "code",
   "execution_count": 4,
   "metadata": {},
   "outputs": [],
   "source": [
    "# remove special chars\n",
    "#df['title'] = df['title'].replace('[^\\w ]','',regex=True).astype(str) \n",
    "# awesome regex shortcut thanks to https://stackoverflow.com/questions/1219915/regex-to-remove-apostrophe"
   ]
  },
  {
   "cell_type": "code",
   "execution_count": 7,
   "metadata": {},
   "outputs": [],
   "source": [
    "astro_comm_df = pd.read_csv('../datasets/eda_astro_comment.csv')\n",
    "astro_post_df = pd.read_csv('../datasets/eda_astro_post.csv')\n",
    "quantum_comm_df = pd.read_csv('../datasets/eda_quantum_comment.csv')\n",
    "quantum_post_df = pd.read_csv('../datasets/eda_quantum_post.csv')"
   ]
  },
  {
   "cell_type": "markdown",
   "metadata": {},
   "source": [
    "Start with additional light cleaning to each DataFrame and then combine them into one (before running train_test_split etc)\n",
    "\n",
    "**In hindsight this could have been done in the earlier EDA phase** but *c'est la vie*"
   ]
  },
  {
   "cell_type": "code",
   "execution_count": 8,
   "metadata": {},
   "outputs": [
    {
     "data": {
      "text/html": [
       "<div>\n",
       "<style scoped>\n",
       "    .dataframe tbody tr th:only-of-type {\n",
       "        vertical-align: middle;\n",
       "    }\n",
       "\n",
       "    .dataframe tbody tr th {\n",
       "        vertical-align: top;\n",
       "    }\n",
       "\n",
       "    .dataframe thead th {\n",
       "        text-align: right;\n",
       "    }\n",
       "</style>\n",
       "<table border=\"1\" class=\"dataframe\">\n",
       "  <thead>\n",
       "    <tr style=\"text-align: right;\">\n",
       "      <th></th>\n",
       "      <th>Unnamed: 0</th>\n",
       "      <th>body</th>\n",
       "      <th>created_utc</th>\n",
       "      <th>subreddit</th>\n",
       "      <th>author</th>\n",
       "      <th>Category</th>\n",
       "      <th>Post_comment</th>\n",
       "      <th>word_count</th>\n",
       "    </tr>\n",
       "  </thead>\n",
       "  <tbody>\n",
       "    <tr>\n",
       "      <th>0</th>\n",
       "      <td>0</td>\n",
       "      <td>Your mum says your pole is more like 2 inches ...</td>\n",
       "      <td>1617222727</td>\n",
       "      <td>astrophysics</td>\n",
       "      <td>moon-worshiper</td>\n",
       "      <td>Astrophysics</td>\n",
       "      <td>Comment</td>\n",
       "      <td>67</td>\n",
       "    </tr>\n",
       "    <tr>\n",
       "      <th>1</th>\n",
       "      <td>1</td>\n",
       "      <td>&amp;gt; 760 mph\\n\\nJust to clarify, thats the spe...</td>\n",
       "      <td>1617220516</td>\n",
       "      <td>astrophysics</td>\n",
       "      <td>Lewri</td>\n",
       "      <td>Astrophysics</td>\n",
       "      <td>Comment</td>\n",
       "      <td>19</td>\n",
       "    </tr>\n",
       "  </tbody>\n",
       "</table>\n",
       "</div>"
      ],
      "text/plain": [
       "   Unnamed: 0                                               body  created_utc  \\\n",
       "0           0  Your mum says your pole is more like 2 inches ...   1617222727   \n",
       "1           1  &gt; 760 mph\\n\\nJust to clarify, thats the spe...   1617220516   \n",
       "\n",
       "      subreddit          author      Category Post_comment  word_count  \n",
       "0  astrophysics  moon-worshiper  Astrophysics      Comment          67  \n",
       "1  astrophysics           Lewri  Astrophysics      Comment          19  "
      ]
     },
     "execution_count": 8,
     "metadata": {},
     "output_type": "execute_result"
    }
   ],
   "source": [
    "astro_comm_df.head(2)"
   ]
  },
  {
   "cell_type": "code",
   "execution_count": 9,
   "metadata": {},
   "outputs": [],
   "source": [
    "#dropping columns for all DataFrames, uniformly\n",
    "astro_comm_df.drop(columns=['Unnamed: 0','created_utc','subreddit'],inplace=True)\n",
    "quantum_comm_df.drop(columns=['Unnamed: 0','created_utc','subreddit'],inplace=True)\n",
    "astro_post_df.drop(columns=['Unnamed: 0','created_utc','title','selftext','num_comments','subreddit'],inplace=True)\n",
    "quantum_post_df.drop(columns=['Unnamed: 0','created_utc','title','selftext','num_comments','subreddit'],inplace=True)"
   ]
  },
  {
   "cell_type": "code",
   "execution_count": 10,
   "metadata": {},
   "outputs": [],
   "source": [
    "#combining all \"Comments\" into one DataFrame\n",
    "all_comm_df = pd.concat([astro_comm_df,quantum_comm_df])\n",
    "\n",
    "#combining all \"Posts\" together\n",
    "all_post_df = pd.concat([astro_post_df,quantum_post_df])\n",
    "\n",
    "#renaming the column header from 'body' to 'combo_text' to be identical\n",
    "all_comm_df = all_comm_df.rename(columns={'body':'combo_text'})\n",
    "\n",
    "# rearranging order of the columns to be identical\n",
    "all_post_df = all_post_df.reindex(columns=['combo_text','Category', 'Post_comment', 'word_count','author'])\n",
    "all_comm_df = all_comm_df.reindex(columns=['combo_text','Category', 'Post_comment', 'word_count','author'])"
   ]
  },
  {
   "cell_type": "code",
   "execution_count": 11,
   "metadata": {},
   "outputs": [
    {
     "data": {
      "text/html": [
       "<div>\n",
       "<style scoped>\n",
       "    .dataframe tbody tr th:only-of-type {\n",
       "        vertical-align: middle;\n",
       "    }\n",
       "\n",
       "    .dataframe tbody tr th {\n",
       "        vertical-align: top;\n",
       "    }\n",
       "\n",
       "    .dataframe thead th {\n",
       "        text-align: right;\n",
       "    }\n",
       "</style>\n",
       "<table border=\"1\" class=\"dataframe\">\n",
       "  <thead>\n",
       "    <tr style=\"text-align: right;\">\n",
       "      <th></th>\n",
       "      <th>combo_text</th>\n",
       "      <th>Category</th>\n",
       "      <th>Post_comment</th>\n",
       "      <th>word_count</th>\n",
       "      <th>author</th>\n",
       "    </tr>\n",
       "  </thead>\n",
       "  <tbody>\n",
       "    <tr>\n",
       "      <th>0</th>\n",
       "      <td>Your mum says your pole is more like 2 inches ...</td>\n",
       "      <td>Astrophysics</td>\n",
       "      <td>Comment</td>\n",
       "      <td>67</td>\n",
       "      <td>moon-worshiper</td>\n",
       "    </tr>\n",
       "    <tr>\n",
       "      <th>1</th>\n",
       "      <td>&amp;gt; 760 mph\\n\\nJust to clarify, thats the spe...</td>\n",
       "      <td>Astrophysics</td>\n",
       "      <td>Comment</td>\n",
       "      <td>19</td>\n",
       "      <td>Lewri</td>\n",
       "    </tr>\n",
       "    <tr>\n",
       "      <th>2</th>\n",
       "      <td>Threw this git repo together [https://github.c...</td>\n",
       "      <td>Astrophysics</td>\n",
       "      <td>Comment</td>\n",
       "      <td>40</td>\n",
       "      <td>physmathastro</td>\n",
       "    </tr>\n",
       "    <tr>\n",
       "      <th>3</th>\n",
       "      <td>oh okay thanks for clearing that.</td>\n",
       "      <td>Astrophysics</td>\n",
       "      <td>Comment</td>\n",
       "      <td>6</td>\n",
       "      <td>AryanPandey</td>\n",
       "    </tr>\n",
       "    <tr>\n",
       "      <th>4</th>\n",
       "      <td>again, the movement needs to propagate through...</td>\n",
       "      <td>Astrophysics</td>\n",
       "      <td>Comment</td>\n",
       "      <td>24</td>\n",
       "      <td>Lewri</td>\n",
       "    </tr>\n",
       "    <tr>\n",
       "      <th>...</th>\n",
       "      <td>...</td>\n",
       "      <td>...</td>\n",
       "      <td>...</td>\n",
       "      <td>...</td>\n",
       "      <td>...</td>\n",
       "    </tr>\n",
       "    <tr>\n",
       "      <th>4490</th>\n",
       "      <td>Questions for a beginner in quantum computing ...</td>\n",
       "      <td>Quantum</td>\n",
       "      <td>Post</td>\n",
       "      <td>87</td>\n",
       "      <td>jb_1988</td>\n",
       "    </tr>\n",
       "    <tr>\n",
       "      <th>4491</th>\n",
       "      <td>How does one observe the ourput of a QC if obs...</td>\n",
       "      <td>Quantum</td>\n",
       "      <td>Post</td>\n",
       "      <td>18</td>\n",
       "      <td>gravitypushes</td>\n",
       "    </tr>\n",
       "    <tr>\n",
       "      <th>4492</th>\n",
       "      <td>Quick stupid question, struggling with the con...</td>\n",
       "      <td>Quantum</td>\n",
       "      <td>Post</td>\n",
       "      <td>114</td>\n",
       "      <td>Quantuum</td>\n",
       "    </tr>\n",
       "    <tr>\n",
       "      <th>4493</th>\n",
       "      <td>Quantum Computing Game Play this game. (link i...</td>\n",
       "      <td>Quantum</td>\n",
       "      <td>Post</td>\n",
       "      <td>70</td>\n",
       "      <td>akiel123</td>\n",
       "    </tr>\n",
       "    <tr>\n",
       "      <th>4494</th>\n",
       "      <td>NSF funds Harvard-led Science and Technology C...</td>\n",
       "      <td>Quantum</td>\n",
       "      <td>Post</td>\n",
       "      <td>12</td>\n",
       "      <td>vvasan</td>\n",
       "    </tr>\n",
       "  </tbody>\n",
       "</table>\n",
       "<p>29728 rows × 5 columns</p>\n",
       "</div>"
      ],
      "text/plain": [
       "                                             combo_text      Category  \\\n",
       "0     Your mum says your pole is more like 2 inches ...  Astrophysics   \n",
       "1     &gt; 760 mph\\n\\nJust to clarify, thats the spe...  Astrophysics   \n",
       "2     Threw this git repo together [https://github.c...  Astrophysics   \n",
       "3                     oh okay thanks for clearing that.  Astrophysics   \n",
       "4     again, the movement needs to propagate through...  Astrophysics   \n",
       "...                                                 ...           ...   \n",
       "4490  Questions for a beginner in quantum computing ...       Quantum   \n",
       "4491  How does one observe the ourput of a QC if obs...       Quantum   \n",
       "4492  Quick stupid question, struggling with the con...       Quantum   \n",
       "4493  Quantum Computing Game Play this game. (link i...       Quantum   \n",
       "4494  NSF funds Harvard-led Science and Technology C...       Quantum   \n",
       "\n",
       "     Post_comment  word_count          author  \n",
       "0         Comment          67  moon-worshiper  \n",
       "1         Comment          19           Lewri  \n",
       "2         Comment          40   physmathastro  \n",
       "3         Comment           6     AryanPandey  \n",
       "4         Comment          24           Lewri  \n",
       "...           ...         ...             ...  \n",
       "4490         Post          87         jb_1988  \n",
       "4491         Post          18   gravitypushes  \n",
       "4492         Post         114        Quantuum  \n",
       "4493         Post          70        akiel123  \n",
       "4494         Post          12          vvasan  \n",
       "\n",
       "[29728 rows x 5 columns]"
      ]
     },
     "execution_count": 11,
     "metadata": {},
     "output_type": "execute_result"
    }
   ],
   "source": [
    "#combining \"Posts\" and \"Comments\" into one big \"Text\" DataFrame\n",
    "all_text_df = pd.concat([all_comm_df,all_post_df])\n",
    "all_text_df"
   ]
  },
  {
   "cell_type": "code",
   "execution_count": null,
   "metadata": {},
   "outputs": [],
   "source": []
  },
  {
   "cell_type": "markdown",
   "metadata": {},
   "source": [
    "#### Cleaning text, binarizing categories"
   ]
  },
  {
   "cell_type": "code",
   "execution_count": 13,
   "metadata": {},
   "outputs": [
    {
     "data": {
      "text/html": [
       "<div>\n",
       "<style scoped>\n",
       "    .dataframe tbody tr th:only-of-type {\n",
       "        vertical-align: middle;\n",
       "    }\n",
       "\n",
       "    .dataframe tbody tr th {\n",
       "        vertical-align: top;\n",
       "    }\n",
       "\n",
       "    .dataframe thead th {\n",
       "        text-align: right;\n",
       "    }\n",
       "</style>\n",
       "<table border=\"1\" class=\"dataframe\">\n",
       "  <thead>\n",
       "    <tr style=\"text-align: right;\">\n",
       "      <th></th>\n",
       "      <th>combo_text</th>\n",
       "      <th>Category</th>\n",
       "      <th>Post_comment</th>\n",
       "      <th>word_count</th>\n",
       "      <th>author</th>\n",
       "    </tr>\n",
       "  </thead>\n",
       "  <tbody>\n",
       "    <tr>\n",
       "      <th>0</th>\n",
       "      <td>Your mum says your pole is more like 2 inches ...</td>\n",
       "      <td>1</td>\n",
       "      <td>0</td>\n",
       "      <td>67</td>\n",
       "      <td>moon-worshiper</td>\n",
       "    </tr>\n",
       "    <tr>\n",
       "      <th>1</th>\n",
       "      <td>gt 760 mphJust to clarify thats the speed of s...</td>\n",
       "      <td>1</td>\n",
       "      <td>0</td>\n",
       "      <td>19</td>\n",
       "      <td>Lewri</td>\n",
       "    </tr>\n",
       "    <tr>\n",
       "      <th>2</th>\n",
       "      <td>Threw this git repo together httpsgithubcomSha...</td>\n",
       "      <td>1</td>\n",
       "      <td>0</td>\n",
       "      <td>40</td>\n",
       "      <td>physmathastro</td>\n",
       "    </tr>\n",
       "    <tr>\n",
       "      <th>3</th>\n",
       "      <td>oh okay thanks for clearing that</td>\n",
       "      <td>1</td>\n",
       "      <td>0</td>\n",
       "      <td>6</td>\n",
       "      <td>AryanPandey</td>\n",
       "    </tr>\n",
       "    <tr>\n",
       "      <th>4</th>\n",
       "      <td>again the movement needs to propagate through ...</td>\n",
       "      <td>1</td>\n",
       "      <td>0</td>\n",
       "      <td>24</td>\n",
       "      <td>Lewri</td>\n",
       "    </tr>\n",
       "    <tr>\n",
       "      <th>...</th>\n",
       "      <td>...</td>\n",
       "      <td>...</td>\n",
       "      <td>...</td>\n",
       "      <td>...</td>\n",
       "      <td>...</td>\n",
       "    </tr>\n",
       "    <tr>\n",
       "      <th>4490</th>\n",
       "      <td>Questions for a beginner in quantum computing ...</td>\n",
       "      <td>0</td>\n",
       "      <td>1</td>\n",
       "      <td>87</td>\n",
       "      <td>jb_1988</td>\n",
       "    </tr>\n",
       "    <tr>\n",
       "      <th>4491</th>\n",
       "      <td>How does one observe the ourput of a QC if obs...</td>\n",
       "      <td>0</td>\n",
       "      <td>1</td>\n",
       "      <td>18</td>\n",
       "      <td>gravitypushes</td>\n",
       "    </tr>\n",
       "    <tr>\n",
       "      <th>4492</th>\n",
       "      <td>Quick stupid question struggling with the conc...</td>\n",
       "      <td>0</td>\n",
       "      <td>1</td>\n",
       "      <td>114</td>\n",
       "      <td>Quantuum</td>\n",
       "    </tr>\n",
       "    <tr>\n",
       "      <th>4493</th>\n",
       "      <td>Quantum Computing Game Play this game link in ...</td>\n",
       "      <td>0</td>\n",
       "      <td>1</td>\n",
       "      <td>70</td>\n",
       "      <td>akiel123</td>\n",
       "    </tr>\n",
       "    <tr>\n",
       "      <th>4494</th>\n",
       "      <td>NSF funds Harvardled Science and Technology Ce...</td>\n",
       "      <td>0</td>\n",
       "      <td>1</td>\n",
       "      <td>12</td>\n",
       "      <td>vvasan</td>\n",
       "    </tr>\n",
       "  </tbody>\n",
       "</table>\n",
       "<p>29728 rows × 5 columns</p>\n",
       "</div>"
      ],
      "text/plain": [
       "                                             combo_text  Category  \\\n",
       "0     Your mum says your pole is more like 2 inches ...         1   \n",
       "1     gt 760 mphJust to clarify thats the speed of s...         1   \n",
       "2     Threw this git repo together httpsgithubcomSha...         1   \n",
       "3                      oh okay thanks for clearing that         1   \n",
       "4     again the movement needs to propagate through ...         1   \n",
       "...                                                 ...       ...   \n",
       "4490  Questions for a beginner in quantum computing ...         0   \n",
       "4491  How does one observe the ourput of a QC if obs...         0   \n",
       "4492  Quick stupid question struggling with the conc...         0   \n",
       "4493  Quantum Computing Game Play this game link in ...         0   \n",
       "4494  NSF funds Harvardled Science and Technology Ce...         0   \n",
       "\n",
       "      Post_comment  word_count          author  \n",
       "0                0          67  moon-worshiper  \n",
       "1                0          19           Lewri  \n",
       "2                0          40   physmathastro  \n",
       "3                0           6     AryanPandey  \n",
       "4                0          24           Lewri  \n",
       "...            ...         ...             ...  \n",
       "4490             1          87         jb_1988  \n",
       "4491             1          18   gravitypushes  \n",
       "4492             1         114        Quantuum  \n",
       "4493             1          70        akiel123  \n",
       "4494             1          12          vvasan  \n",
       "\n",
       "[29728 rows x 5 columns]"
      ]
     },
     "execution_count": 13,
     "metadata": {},
     "output_type": "execute_result"
    }
   ],
   "source": [
    "#this nifty piece of code cleans out a lot of punctuation, etc. from text\n",
    "#but look at Samantha Chu's advice above and make your own best choice for cleaning text data\n",
    "all_text_df['combo_text'] = all_text_df['combo_text'].replace('[^\\w ]','',regex=True).astype(str)\n",
    "#all_text_df\n",
    "\n",
    "#binarizing categories\n",
    "all_text_df['Category'].replace({'Astrophysics':1,'Quantum':0},inplace=True)\n",
    "all_text_df['Post_comment'].replace({'Post':1,'Comment':0},inplace=True)\n",
    "all_text_df"
   ]
  },
  {
   "cell_type": "code",
   "execution_count": 15,
   "metadata": {},
   "outputs": [
    {
     "name": "stdout",
     "output_type": "stream",
     "text": [
      "1    0.52062\n",
      "0    0.47938\n",
      "Name: Category, dtype: float64\n",
      "0    0.6471\n",
      "1    0.3529\n",
      "Name: Post_comment, dtype: float64\n"
     ]
    }
   ],
   "source": [
    "#setting a baseline\n",
    "print(all_text_df['Category'].value_counts(normalize=True))\n",
    "print(all_text_df['Post_comment'].value_counts(normalize=True))"
   ]
  },
  {
   "cell_type": "markdown",
   "metadata": {},
   "source": [
    "A **52%** baseline expectation to choose *Astrophysics*\n",
    "A **65%** baseline expectation to choose *Posts*"
   ]
  },
  {
   "cell_type": "code",
   "execution_count": null,
   "metadata": {},
   "outputs": [],
   "source": []
  },
  {
   "cell_type": "markdown",
   "metadata": {},
   "source": [
    "#### Set up everything"
   ]
  },
  {
   "cell_type": "code",
   "execution_count": 16,
   "metadata": {},
   "outputs": [],
   "source": [
    "# X and y\n",
    "X = all_text_df['combo_text']\n",
    "y = all_text_df['Post_comment']\n",
    "\n",
    "X_train, X_test, y_train, y_test = train_test_split(X,y, stratify=y)"
   ]
  },
  {
   "cell_type": "code",
   "execution_count": 17,
   "metadata": {},
   "outputs": [],
   "source": [
    "# Instantiate a CountVectorizer with the default hyperparameters.\n",
    "cvec = CountVectorizer(min_df=2)\n",
    "\n",
    "# Fit the vectorizer on our corpus.\n",
    "cvec.fit(X_train)\n",
    "\n",
    "# Transform the corpus.\n",
    "X_train_cvec = cvec.transform(X_train)\n",
    "\n",
    "#transform the test data\n",
    "X_test_cvec = cvec.transform(X_test)"
   ]
  },
  {
   "cell_type": "code",
   "execution_count": 18,
   "metadata": {},
   "outputs": [
    {
     "data": {
      "text/plain": [
       "16659"
      ]
     },
     "execution_count": 18,
     "metadata": {},
     "output_type": "execute_result"
    }
   ],
   "source": [
    "len(cvec.get_feature_names())"
   ]
  },
  {
   "cell_type": "code",
   "execution_count": 19,
   "metadata": {},
   "outputs": [
    {
     "name": "stdout",
     "output_type": "stream",
     "text": [
      "DecisionTreeClassifier training score: 0.9344725511302476\n",
      "DecisionTreeClassifier testing score: 0.8240043057050592\n"
     ]
    }
   ],
   "source": [
    "#import the DTC\n",
    "from sklearn.tree import DecisionTreeClassifier\n",
    "dtc = DecisionTreeClassifier(max_depth=20)\n",
    "dtc.fit(X_train_cvec,y_train)\n",
    "\n",
    "# score the model\n",
    "print(f'DecisionTreeClassifier training score: {dtc.score(X_train_cvec,y_train)}')\n",
    "print(f'DecisionTreeClassifier testing score: {dtc.score(X_test_cvec,y_test)}')"
   ]
  },
  {
   "cell_type": "code",
   "execution_count": null,
   "metadata": {},
   "outputs": [],
   "source": []
  },
  {
   "cell_type": "code",
   "execution_count": 20,
   "metadata": {},
   "outputs": [
    {
     "name": "stdout",
     "output_type": "stream",
     "text": [
      "AdaBoost Classifier training score: 0.8794402583423035\n",
      "AdaBoost Classifier testing score: 0.875\n"
     ]
    }
   ],
   "source": [
    "#import the ABC\n",
    "from sklearn.ensemble import AdaBoostClassifier\n",
    "abc = AdaBoostClassifier(n_estimators=200)\n",
    "abc.fit(X_train_cvec,y_train)\n",
    "\n",
    "print(f'AdaBoost Classifier training score: {abc.score(X_train_cvec,y_train)}')\n",
    "print(f'AdaBoost Classifier testing score: {abc.score(X_test_cvec,y_test)}')"
   ]
  },
  {
   "cell_type": "code",
   "execution_count": null,
   "metadata": {},
   "outputs": [],
   "source": []
  }
 ],
 "metadata": {
  "kernelspec": {
   "display_name": "Python 3",
   "language": "python",
   "name": "python3"
  },
  "language_info": {
   "codemirror_mode": {
    "name": "ipython",
    "version": 3
   },
   "file_extension": ".py",
   "mimetype": "text/x-python",
   "name": "python",
   "nbconvert_exporter": "python",
   "pygments_lexer": "ipython3",
   "version": "3.8.5"
  }
 },
 "nbformat": 4,
 "nbformat_minor": 4
}
