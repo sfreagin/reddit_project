{
 "cells": [
  {
   "cell_type": "markdown",
   "metadata": {},
   "source": [
    "# Natural Language Processing & Webscraping project\n",
    "\n",
    "This repository houses the information and working files used to pull, process, and analyze data for DSI project 3.  \n",
    "\n",
    "The task was to pull text data from a website (reddit) and use a combination of Natural Language Processing (NLP) and classification techniques to predict outcomes.  Specifically the primary task is to predict \"subreddits\" and the secondary goal it to predict whether a given block of text is a *Post* or a *Comment*.\n",
    "\n",
    "The repository is organized as follows:\n",
    "- **datasets**\n",
    "    - There are four *parent* .csv files holding \"Posts\" and \"Comments\" data for \"Astrophysics\" and QuantumComputing\"\n",
    "    - Each parent is paired with an EDA file which contains similar data but cleaned out\n",
    "- **images**\n",
    "    - Two .png files showing the frequency of user posts over time for each of \"Astrophysics\" and \"QuantumComputing\"\n",
    "- **misc**\n",
    "    - Several code-along notebooks whose code was reproduced in whole or in part in several main notebooks in the \"notebooks\" directory\n",
    "    - They are included for completeness' sake but not necessary to the analysis otherwise\n",
    "- **notebooks**\n",
    "    - Pulling data\n",
    "        - Making use of the PushShift API to pull reddit posts and comments, and stores them as .csv files in **datasets**\n",
    "    - EDA\n",
    "        - Initial exploration and cleaning of the datasets, plus useful statistics found along the way\n",
    "    - The model notebooks are categorized as AdaBoost, LogisticRegression, RandomForest\n",
    "    - Each model category is further branched by four datasets:\n",
    "        - reddit Posts only\n",
    "        - reddit Comments only\n",
    "        - reddit Posts and Comments (combo)\n",
    "        - reddit Posts and Comments, but to predict post/comm status rather than subreddit category"
   ]
  },
  {
   "cell_type": "code",
   "execution_count": null,
   "metadata": {},
   "outputs": [],
   "source": []
  }
 ],
 "metadata": {
  "kernelspec": {
   "display_name": "Python 3",
   "language": "python",
   "name": "python3"
  },
  "language_info": {
   "codemirror_mode": {
    "name": "ipython",
    "version": 3
   },
   "file_extension": ".py",
   "mimetype": "text/x-python",
   "name": "python",
   "nbconvert_exporter": "python",
   "pygments_lexer": "ipython3",
   "version": "3.8.5"
  }
 },
 "nbformat": 4,
 "nbformat_minor": 4
}
